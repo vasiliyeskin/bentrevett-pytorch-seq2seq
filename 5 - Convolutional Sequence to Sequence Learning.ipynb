{
 "nbformat": 4,
 "nbformat_minor": 0,
 "metadata": {
  "kernelspec": {
   "display_name": "Python 3",
   "language": "python",
   "name": "python3"
  },
  "language_info": {
   "codemirror_mode": {
    "name": "ipython",
    "version": 3
   },
   "file_extension": ".py",
   "mimetype": "text/x-python",
   "name": "python",
   "nbconvert_exporter": "python",
   "pygments_lexer": "ipython3",
   "version": "3.8.5"
  },
  "colab": {
   "name": "5 - Convolutional Sequence to Sequence Learning.ipynb",
   "provenance": [],
   "include_colab_link": true
  },
  "accelerator": "GPU"
 },
 "cells": [
  {
   "cell_type": "markdown",
   "metadata": {
    "id": "view-in-github",
    "colab_type": "text"
   },
   "source": [
    "<a href=\"https://colab.research.google.com/github/vasiliyeskin/bentrevett-pytorch-seq2seq_ru/blob/master/5%20-%20Convolutional%20Sequence%20to%20Sequence%20Learning.ipynb\" target=\"_parent\"><img src=\"https://colab.research.google.com/assets/colab-badge.svg\" alt=\"Open In Colab\"/></a>"
   ]
  },
  {
   "cell_type": "markdown",
   "metadata": {
    "id": "bfr6-ynPmW-a"
   },
   "source": [
    "# 5 - Convolutional Sequence to Sequence Learning\n",
    "\n",
    "В этой части мы будем реализовывать модель из статьи [Convolutional Sequence to Sequence Learning](https://arxiv.org/abs/1705.03122).\n",
    "\n",
    "![](https://github.com/vasiliyeskin/bentrevett-pytorch-seq2seq_ru/blob/master/assets/convseq2seq0.png?raw=1)\n",
    "\n",
    "## Введение\n",
    "\n",
    "Эта модель кардинально отличается от предыдущих моделей, реализованных нами. Здесь вообще не используются рекуррентные компоненты. Вместо этого применяются свёрточные слои (CNN), обычно применяемые для обработки изображений. В качестве введения в особенности использования свёрточных слоёв для обработки текста см. руководство [здесь](https://github.com/bentrevett/pytorch-sentiment-analysis/blob/master/4%20-%20Convolutional%20Sentiment%20Analysis.ipynb).\n",
    "\n",
    "\n",
    "Если коротко, то свёрточный слой использует *фильтры*. Эти фильтры имеют *ширину* (а также *высоту* в изображениях, но обычно не для текстов). Если фильтр имеет ширину 3, он может видеть 3 последовательных токена. Каждый свёрточный слой имеет множество таких фильтров (1024 в этом разделе). Каждый фильтр будет скользить по последовательности от начала до конца, просматривая все 3 последовательных токена одновременно. Идея состоит в том, что каждый из этих 1024 фильтров научится извлекать из текста разные признаки. Результат этого извлечения признаков будет затем использоваться моделью — потенциально в качестве входных данных для другого свёрточного слоя. Затем всё это можно использовать для извлечения особенностей из исходного предложения для перевода его на целевой язык.\n",
    "\n",
    "\n",
    "## Подготовка данных\n",
    "\n",
    "Во-первых, давайте импортируем все необходимые модули и зададим случайные начальные числа для воспроизводимости."
   ]
  },
  {
   "cell_type": "code",
   "metadata": {
    "id": "d8WwFMGRmW-c"
   },
   "source": [
    "import torch\n",
    "import torch.nn as nn\n",
    "import torch.optim as optim\n",
    "import torch.nn.functional as F\n",
    "\n",
    "from torchtext.legacy.datasets import Multi30k\n",
    "from torchtext.legacy.data import Field, BucketIterator, TabularDataset\n",
    "\n",
    "import matplotlib.pyplot as plt\n",
    "import matplotlib.ticker as ticker\n",
    "\n",
    "import spacy\n",
    "import numpy as np\n",
    "\n",
    "import random\n",
    "import math\n",
    "import time"
   ],
   "execution_count": 38,
   "outputs": []
  },
  {
   "cell_type": "code",
   "metadata": {
    "id": "U3Srvwq_mW-d"
   },
   "source": [
    "SEED = 1234\n",
    "\n",
    "random.seed(SEED)\n",
    "np.random.seed(SEED)\n",
    "torch.manual_seed(SEED)\n",
    "torch.cuda.manual_seed(SEED)\n",
    "torch.backends.cudnn.deterministic = True"
   ],
   "execution_count": 2,
   "outputs": []
  },
  {
   "cell_type": "markdown",
   "metadata": {
    "collapsed": false,
    "id": "7_miKNNdbUSI"
   },
   "source": [
    "Для загрузки в Google Colab используем следующие команды (После загрузки обязательно перезапустите colab runtime! Наибыстрейший способ через короткую комаду： **Ctrl + M + .**):"
   ]
  },
  {
   "cell_type": "code",
   "metadata": {
    "pycharm": {
     "name": "#%%\n"
    },
    "id": "pSeBX2JLbUSI"
   },
   "source": [
    "!pip install -U spacy==3.0\n",
    "!python -m spacy download en_core_web_sm\n",
    "!python -m spacy download de_core_news_sm"
   ],
   "execution_count": null,
   "outputs": []
  },
  {
   "cell_type": "markdown",
   "metadata": {
    "id": "mFKgNpIOmW-d"
   },
   "source": [
    "Затем мы загрузим модели spaCy и определим токенизаторы для исходного и целевого языков."
   ]
  },
  {
   "cell_type": "code",
   "metadata": {
    "id": "40qfROsMmW-d"
   },
   "source": [
    "spacy_de = spacy.load('de_core_news_sm')\n",
    "spacy_en = spacy.load('en_core_web_sm')"
   ],
   "execution_count": 3,
   "outputs": []
  },
  {
   "cell_type": "code",
   "metadata": {
    "id": "qUNsA8ulmW-e"
   },
   "source": [
    "def tokenize_de(text):\n",
    "    \"\"\"\n",
    "    Tokenizes German text from a string into a list of strings\n",
    "    \"\"\"\n",
    "    return [tok.text for tok in spacy_de.tokenizer(text)]\n",
    "\n",
    "def tokenize_en(text):\n",
    "    \"\"\"\n",
    "    Tokenizes English text from a string into a list of strings\n",
    "    \"\"\"\n",
    "    return [tok.text for tok in spacy_en.tokenizer(text)]"
   ],
   "execution_count": 4,
   "outputs": []
  },
  {
   "cell_type": "markdown",
   "metadata": {
    "id": "oQ3BPIKFmW-e"
   },
   "source": [
    "Далее мы настроим `Field` которые решают, как будут обрабатываться данные. По умолчанию модели RNN в PyTorch требуют, чтобы последовательность была тензором формы **[sequence length, batch size]** поэтому TorchText по умолчанию возвращает пакеты тензоров той же формы. Однако в этой части мы используем CNN, которая ожидают, что размер пакета будет первым. Мы говорим TorchText, что партии должны быть **[batch size, sequence length]** установив `batch_first = True`.\n",
    "\n",
    "Мы также добавляем токены начала и конца последовательности, и переводим весь текст в нижний регистр."
   ]
  },
  {
   "cell_type": "code",
   "metadata": {
    "id": "aGEXW14MmW-e"
   },
   "source": [
    "SRC = Field(tokenize = tokenize_de, \n",
    "            init_token = '<sos>', \n",
    "            eos_token = '<eos>', \n",
    "            lower = True, \n",
    "            batch_first = True)\n",
    "\n",
    "TRG = Field(tokenize = tokenize_en, \n",
    "            init_token = '<sos>', \n",
    "            eos_token = '<eos>', \n",
    "            lower = True, \n",
    "            batch_first = True)"
   ],
   "execution_count": 5,
   "outputs": []
  },
  {
   "cell_type": "markdown",
   "metadata": {
    "id": "xfgigV4VmW-f"
   },
   "source": [
    "Затем мы загружаем наш набор данных."
   ]
  },
  {
   "cell_type": "code",
   "metadata": {
    "id": "6s7NsWWLmW-g"
   },
   "source": [
    "train_data, valid_data, test_data = Multi30k.splits(exts=('.de', '.en'), \n",
    "                                                    fields=(SRC, TRG))"
   ],
   "execution_count": null,
   "outputs": []
  },
  {
   "cell_type": "markdown",
   "metadata": {
    "id": "f4ehnkhqmW-g"
   },
   "source": [
    "Мы, как и раньше, пополняем наш словарь, конвертируя любые токены, которые встречаются менее двух раз, в `<unk>` токены."
   ]
  },
  {
   "cell_type": "code",
   "metadata": {
    "id": "EluC6sImmW-h"
   },
   "source": [
    "SRC.build_vocab(train_data, min_freq = 2)\n",
    "TRG.build_vocab(train_data, min_freq = 2)"
   ],
   "execution_count": 7,
   "outputs": []
  },
  {
   "cell_type": "markdown",
   "metadata": {
    "id": "ujpSbdMxmW-h"
   },
   "source": [
    "Последний этап подготовки данных — определение устройства, а затем создание итератора."
   ]
  },
  {
   "cell_type": "code",
   "metadata": {
    "id": "3kbwb4lCmW-h"
   },
   "source": [
    "device = torch.device('cuda' if torch.cuda.is_available() else 'cpu')"
   ],
   "execution_count": 8,
   "outputs": []
  },
  {
   "cell_type": "code",
   "metadata": {
    "id": "IDVx1ipNmW-h"
   },
   "source": [
    "BATCH_SIZE = 128\n",
    "\n",
    "train_iterator, valid_iterator, test_iterator = BucketIterator.splits(\n",
    "    (train_data, valid_data, test_data), \n",
    "     batch_size = BATCH_SIZE,\n",
    "     device = device)"
   ],
   "execution_count": 9,
   "outputs": []
  },
  {
   "cell_type": "markdown",
   "metadata": {
    "id": "0k1oGcVjmW-i"
   },
   "source": [
    "## Построение модели\n",
    "\n",
    "Следующим шагом будет построение модели. Как и прежде, модель состоит из кодировщика и декодера. Кодировщик *кодирует* вводное предложение, на исходном языке, в *вектор контекста*. Декодер *декодирует* вектор контекста для создания выходного предложения на целевом языке.\n",
    "\n",
    "### Кодировщик\n",
    "\n",
    "Предыдущие модели в этих уроках имели кодировщик, который сжимает всё входное предложение в один вектор контекста $z$. Свёрточная модель sequence-to-sequence немного отличается — она получает два вектора контекста для каждого токена во входном предложении. Итак, если бы в нашем входном предложении было 6 токенов, мы получили бы 12 контекстных векторов, по два на каждый токен.\n",
    "\n",
    "Два вектора контекста на токен - это *преобразованный* вектор и *комбинированный* вектор. Преобразованный вектор - это результат прохождения каждого токена через несколько слоев, работу которых мы вскоре объясним. Комбинированный вектор получается в результате суммирования вектора, прошедшего свёрточные слои, и эмбеддинга этого токена. Оба они возвращаются кодером для использования декодером.\n",
    "\n",
    "На изображении ниже показан результат ввода предложения - *zwei menschen fechten.* - которое проходит через кодировщик.\n",
    "\n",
    "![](https://github.com/vasiliyeskin/bentrevett-pytorch-seq2seq_ru/blob/master/assets/convseq2seq1.png?raw=1)\n",
    "\n",
    "Сначала токен проходит через *слой эмбеддинга токенов* - что является стандартом для нейронных сетей обработки естественного языка. Однако, поскольку в этой модели нет рекуррентой части, то она не имеет представления о порядке токенов в последовательности. Чтобы исправить это, у нас есть второй слой эмбеддинга, *позиционный слой эмбеддинга*. Это стандартный уровень эмбеддинга, где входом является не сам токен, а позиция токена в последовательности - начиная с первого токена, токена `<sos>` (начало последовательности), в позиции 0.\n",
    "\n",
    "Затем токен и позиционные эмбеддинги поэлементно суммируются, чтобы получить вектор, который содержит информацию о токене, а также его позицию в последовательности, которую мы будем называть *вектор эмбеддинга*. Затем следует линейный слой, который преобразует вектор эмбеддинга в вектор с требуемым размером скрытого слоя.\n",
    "\n",
    "Следующий шаг - передача этого скрытого вектора в $N$ *свёрточных блоков*. Именно здесь в этой модели происходит вся «магия», и вскоре мы подробно рассмотрим содержимое свёрточных блоков. После прохождения свёрточных блоков вектор затем проходит через другой линейный слой, чтобы преобразовать его обратно из размера скрытого слоя к размеру выхода эмбеддинга. Это наш *преобразованный* вектор - по одному для каждого токена во входной последовательности.\n",
    "\n",
    "Наконец, преобразованный вектор поэлементно суммируется с вектором эмбеддинга через остаточное соединение, чтобы получить *комбинированный* вектор для каждого токена. Опять же, имеется комбинированный вектор для каждого токена во входной последовательности.\n",
    "\n",
    "### Свёрточные блоки\n",
    "\n",
    "Итак, как работают эти свёрточные блоки? На изображении ниже показаны 2 свёрточных блока с одним фильтром (синий), который скользит по токенам в последовательности. В реальной реализации у нас будет 10 свёрточных блоков с 1024 фильтрами в каждом блоке.\n",
    "\n",
    "![](https://github.com/vasiliyeskin/bentrevett-pytorch-seq2seq_ru/blob/master/assets/convseq2seq2.png?raw=1)\n",
    "\n",
    "Сначала вводимое предложение необходимо дополнить. Это связано с тем, что свёрточные слои уменьшают длину входного предложения, и мы хотим, чтобы длина предложения, входящего в свёрточные блоки, равнялась его длине по выходу из свёрточных блоков. Без заполнения длина последовательности, выходящей из свёрточного слоя, будет `filter_size - 1` элементов короче, чем последовательность, входящая в свёрточный слой. Например, если бы у нас был размер фильтра 3, последовательность будет на 2 элемента короче. Таким образом, мы дополняем предложение одним элементом заполнения с каждой стороны. Мы можем рассчитать количество отступов с каждой стороны, просто выполнив `(filter_size - 1)/2` для фильтров нечетного размера - в этой части мы не будем рассматривать фильтры четного размера.\n",
    "\n",
    "Эти фильтры разработаны таким образом, чтобы их скрытый размер вывода был вдвое больше, чем скрытый размер ввода. В терминологии компьютерного зрения эти скрытые измерения называются *каналами* - но мы будем называть их скрытыми измерениями. Почему мы удваиваем размер скрытого измерения, покидая свёрточный фильтр? Это потому, что мы используем специальную функцию активации, которая называется *закрытые линейные блоки* (gated linear units - GLU). У GLU есть затворные механизмы (похожие на LSTM и GRU), содержащиеся в функции активации и, фактически, вдвое меньшие размера скрытого измерения, тогда как обычно функции активации сохраняют скрытые измерения того же размера.\n",
    "\n",
    "После прохождения активации GLU размер скрытого измерения для каждого токена такой же, как и при входе в свёрточные блоки. Теперь он поэлементно суммируется со своим собственным вектором, прежде чем он будет пропущен через следующий свёрточный слой.\n",
    "\n",
    "На этом завершается одиночный свёрточный блок. Последующие блоки берут вывод предыдущего блока и выполняют те же шаги. У каждого блока есть свои параметры, они не разделяются между блоками. Вывод последнего блока возвращается в основной кодировщик — где он проходит через линейный слой для получения преобразованного вывода, а затем поэлементно суммируется с токеном эмбеддига для получения комбинированного вывода.\n",
    "\n",
    "\n",
    "### Реализация кодировщика\n",
    "\n",
    "Чтобы упростить реализацию, мы допускаем только ядра нечётного размера. Это позволяет добавлять одинаковые отступы к обеим сторонам исходной последовательности.\n",
    "\n",
    "Переменная величина `scale` используется авторами, чтобы «гарантировать, что дисперсия во всей сети не изменится кардинально». Производительность модели может сильно различаться, если не использовать данное ухищрение.\n",
    "\n",
    "Позиционный эмдеддинг инициализируется так, чтобы иметь \"словарь\" 100. Это означает, что он может обрабатывать последовательности длиной до 100 элементов с индексами от 0 до 99. Его можно увеличить, если использовать в наборе данные с большей длиной последовательностей."
   ]
  },
  {
   "cell_type": "code",
   "metadata": {
    "id": "x2kceO1omW-l"
   },
   "source": [
    "class Encoder(nn.Module):\n",
    "    def __init__(self, \n",
    "                 input_dim, \n",
    "                 emb_dim, \n",
    "                 hid_dim, \n",
    "                 n_layers, \n",
    "                 kernel_size, \n",
    "                 dropout, \n",
    "                 device,\n",
    "                 max_length = 100):\n",
    "        super().__init__()\n",
    "        \n",
    "        assert kernel_size % 2 == 1, \"Kernel size must be odd!\"\n",
    "        \n",
    "        self.device = device\n",
    "        \n",
    "        self.scale = torch.sqrt(torch.FloatTensor([0.5])).to(device)\n",
    "        \n",
    "        self.tok_embedding = nn.Embedding(input_dim, emb_dim)\n",
    "        self.pos_embedding = nn.Embedding(max_length, emb_dim)\n",
    "        \n",
    "        self.emb2hid = nn.Linear(emb_dim, hid_dim)\n",
    "        self.hid2emb = nn.Linear(hid_dim, emb_dim)\n",
    "        \n",
    "        self.convs = nn.ModuleList([nn.Conv1d(in_channels = hid_dim, \n",
    "                                              out_channels = 2 * hid_dim, \n",
    "                                              kernel_size = kernel_size, \n",
    "                                              padding = (kernel_size - 1) // 2)\n",
    "                                    for _ in range(n_layers)])\n",
    "        \n",
    "        self.dropout = nn.Dropout(dropout)\n",
    "        \n",
    "    def forward(self, src):\n",
    "        \n",
    "        #src = [batch size, src len]\n",
    "        \n",
    "        batch_size = src.shape[0]\n",
    "        src_len = src.shape[1]\n",
    "        \n",
    "        #create position tensor\n",
    "        pos = torch.arange(0, src_len).unsqueeze(0).repeat(batch_size, 1).to(self.device)\n",
    "        \n",
    "        #pos = [0, 1, 2, 3, ..., src len - 1]\n",
    "        \n",
    "        #pos = [batch size, src len]\n",
    "        \n",
    "        #embed tokens and positions\n",
    "        tok_embedded = self.tok_embedding(src)\n",
    "        pos_embedded = self.pos_embedding(pos)\n",
    "        \n",
    "        #tok_embedded = pos_embedded = [batch size, src len, emb dim]\n",
    "        \n",
    "        #combine embeddings by elementwise summing\n",
    "        embedded = self.dropout(tok_embedded + pos_embedded)\n",
    "        \n",
    "        #embedded = [batch size, src len, emb dim]\n",
    "        \n",
    "        #pass embedded through linear layer to convert from emb dim to hid dim\n",
    "        conv_input = self.emb2hid(embedded)\n",
    "        \n",
    "        #conv_input = [batch size, src len, hid dim]\n",
    "        \n",
    "        #permute for convolutional layer\n",
    "        conv_input = conv_input.permute(0, 2, 1) \n",
    "        \n",
    "        #conv_input = [batch size, hid dim, src len]\n",
    "        \n",
    "        #begin convolutional blocks...\n",
    "        \n",
    "        for i, conv in enumerate(self.convs):\n",
    "        \n",
    "            #pass through convolutional layer\n",
    "            conved = conv(self.dropout(conv_input))\n",
    "\n",
    "            #conved = [batch size, 2 * hid dim, src len]\n",
    "\n",
    "            #pass through GLU activation function\n",
    "            conved = F.glu(conved, dim = 1)\n",
    "\n",
    "            #conved = [batch size, hid dim, src len]\n",
    "            \n",
    "            #apply residual connection\n",
    "            conved = (conved + conv_input) * self.scale\n",
    "\n",
    "            #conved = [batch size, hid dim, src len]\n",
    "            \n",
    "            #set conv_input to conved for next loop iteration\n",
    "            conv_input = conved\n",
    "        \n",
    "        #...end convolutional blocks\n",
    "        \n",
    "        #permute and convert back to emb dim\n",
    "        conved = self.hid2emb(conved.permute(0, 2, 1))\n",
    "        \n",
    "        #conved = [batch size, src len, emb dim]\n",
    "        \n",
    "        #elementwise sum output (conved) and input (embedded) to be used for attention\n",
    "        combined = (conved + embedded) * self.scale\n",
    "        \n",
    "        #combined = [batch size, src len, emb dim]\n",
    "        \n",
    "        return conved, combined"
   ],
   "execution_count": 10,
   "outputs": []
  },
  {
   "cell_type": "markdown",
   "metadata": {
    "id": "Ir3J9237mW-m"
   },
   "source": [
    "### Декодер\n",
    "\n",
    "Декодер принимает фактическое целевое предложение и пытается его предсказать. Эта модель отличается от моделей рекуррентных нейронных сетей, описанных ранее, тем, что она прогнозирует все токены в целевом предложении параллельно. Нет последовательной обработки, то есть цикла декодирования. Это будет подробно описано позже.\n",
    "\n",
    "Декодер похож на кодировщик, с некоторыми изменениями как в основной модели, так и в свёрточных блоках внутри модели.\n",
    "\n",
    "![](https://github.com/vasiliyeskin/bentrevett-pytorch-seq2seq_ru/blob/master/assets/convseq2seq3.png?raw=1)\n",
    "\n",
    "Во-первых, эмбеддинги не имеют остаточной связи, которая соединяется после свёрточных блоков и преобразования. Вместо этого эмбеддинги подаются в свёрточные блоки, которые будут использоваться там в качестве остаточных соединений.\n",
    "\n",
    "Во-вторых, для подачи информации декодеру от кодера используются преобразованные и комбинированные выходные данные кодера — опять же, в свёрточных блоках.\n",
    "\n",
    "Наконец, выход декодера представляет собой линейный слой от размера эмбеддинга до размера вывода. Это используется для предсказания того, каким должно быть следующее слово в переводе.\n",
    "\n",
    "### Свёрточные блоки декодера\n",
    "\n",
    "Они похожи на свёрточные блоки в кодировщике с некоторыми изменениями.\n",
    "\n",
    "![](https://github.com/vasiliyeskin/bentrevett-pytorch-seq2seq_ru/blob/master/assets/convseq2seq4.png?raw=1)\n",
    "\n",
    "Во-первых, дополнения. Вместо того, чтобы заполнять одинаково с каждой стороны, чтобы длина предложения оставалась неизменной на всем протяжении, мы выполняем заполнение только в начале предложения. Поскольку мы обрабатываем все целевые токены одновременно параллельно, а не последовательно, нам нужен метод, позволяющий фильтрам, переводящим токен $i$, смотреть только на токены перед словом $i$. Если бы им было разрешено смотреть на $i+1$-ый токен (токен, который они должны выводить), то модель просто научилась бы предоставлять следующее слово в последовательности напрямую, копируя его, фактически не обучаясь переводить.\n",
    "\n",
    "Давайте посмотрим, что произойдет, если мы **неправильно** сделали добавления с каждой стороны, как в кодировщике.\n",
    "\n",
    "![](https://github.com/vasiliyeskin/bentrevett-pytorch-seq2seq_ru/blob/master/assets/convseq2seq5.png?raw=1)\n",
    "\n",
    "Фильтр в первой позиции, который пытается использовать первое слово в последовательности `<sos>`, чтобы предсказать второе слово, `two`, теперь может напрямую видеть слово` two`. Это слово для каждой позиции, которое модель пытается предсказать, является вторым элементом, охваченным фильтром. Таким образом, фильтры могут научиться просто копировать второе слово в каждой позиции, обеспечивая идеальный перевод, фактически не изучая, как переводить.\n",
    "\n",
    "Во-вторых, после активации GLU и до остаточного соединения блок вычисляет и применяет внимание - используя закодированные представления и эмбеддинг текущего слова. **Замечание**: мы показываем соединения только с крайним правым токеном, но на самом деле они охватывают все токены (пример приведён только для ясности проблемы). Каждый входной токен использует свои собственные и только свои эмбеддинги для расчёта собственного внимания.\n",
    "\n",
    "Внимание рассчитывается путем использования сначала линейного слоя, для изменения скрытого размера на тот же размер, что и размер эмбеддинга. Затем эмбеддинг суммируется с помощью остаточного соединения. Затем к этой комбинации применяется стандартный расчет внимания путем нахождения того, насколько оно «совпадает» с *закодированным преобразованным вектором*, а затем это применяется путем получения взвешенной суммы по *закодированному объединенному вектору*. Затем эта спроецированная копия до размера скрытого измерения и применяется остаточная связь с начальным входом к слою внимания.\n",
    "\n",
    "Почему они сначала вычисляют внимание с закодированным преобразованным вектором, а затем используют его для вычисления взвешенной суммы по закодированному комбинированному векторы? В статье утверждается, что закодированный преобразованный код хорош для получения более широкого контекста по сравнению с закодированной последовательностью, тогда как закодированный комбинированный вектор содержит больше информации о конкретном токене и, следовательно, более полезен для создания прогноза.\n",
    "\n",
    "### Реализация декодера\n",
    "\n",
    "Поскольку мы дополняем только одну сторону, декодеру разрешено использовать заполнение как нечетного, так и четного размера. Опять же, `scale` используется для уменьшения дисперсии по всей модели, а встраивание позиции инициализируется, чтобы иметь «словарь» равный 100.\n",
    "\n",
    "Эта модель принимает представления кодировщика в свой метод `forward`, результат и аргумент - оба передаются в метод `calculate_attention`, который рассчитывает и применяет механизм внимания. Он также возвращает фактические значения внимания, но в настоящее время мы их не используем."
   ]
  },
  {
   "cell_type": "code",
   "metadata": {
    "id": "PmVVNC9VmW-m"
   },
   "source": [
    "class Decoder(nn.Module):\n",
    "    def __init__(self, \n",
    "                 output_dim, \n",
    "                 emb_dim, \n",
    "                 hid_dim, \n",
    "                 n_layers, \n",
    "                 kernel_size, \n",
    "                 dropout, \n",
    "                 trg_pad_idx, \n",
    "                 device,\n",
    "                 max_length = 100):\n",
    "        super().__init__()\n",
    "        \n",
    "        self.kernel_size = kernel_size\n",
    "        self.trg_pad_idx = trg_pad_idx\n",
    "        self.device = device\n",
    "        \n",
    "        self.scale = torch.sqrt(torch.FloatTensor([0.5])).to(device)\n",
    "        \n",
    "        self.tok_embedding = nn.Embedding(output_dim, emb_dim)\n",
    "        self.pos_embedding = nn.Embedding(max_length, emb_dim)\n",
    "        \n",
    "        self.emb2hid = nn.Linear(emb_dim, hid_dim)\n",
    "        self.hid2emb = nn.Linear(hid_dim, emb_dim)\n",
    "        \n",
    "        self.attn_hid2emb = nn.Linear(hid_dim, emb_dim)\n",
    "        self.attn_emb2hid = nn.Linear(emb_dim, hid_dim)\n",
    "        \n",
    "        self.fc_out = nn.Linear(emb_dim, output_dim)\n",
    "        \n",
    "        self.convs = nn.ModuleList([nn.Conv1d(in_channels = hid_dim, \n",
    "                                              out_channels = 2 * hid_dim, \n",
    "                                              kernel_size = kernel_size)\n",
    "                                    for _ in range(n_layers)])\n",
    "        \n",
    "        self.dropout = nn.Dropout(dropout)\n",
    "      \n",
    "    def calculate_attention(self, embedded, conved, encoder_conved, encoder_combined):\n",
    "        \n",
    "        #embedded = [batch size, trg len, emb dim]\n",
    "        #conved = [batch size, hid dim, trg len]\n",
    "        #encoder_conved = encoder_combined = [batch size, src len, emb dim]\n",
    "        \n",
    "        #permute and convert back to emb dim\n",
    "        conved_emb = self.attn_hid2emb(conved.permute(0, 2, 1))\n",
    "        \n",
    "        #conved_emb = [batch size, trg len, emb dim]\n",
    "        \n",
    "        combined = (conved_emb + embedded) * self.scale\n",
    "        \n",
    "        #combined = [batch size, trg len, emb dim]\n",
    "                \n",
    "        energy = torch.matmul(combined, encoder_conved.permute(0, 2, 1))\n",
    "        \n",
    "        #energy = [batch size, trg len, src len]\n",
    "        \n",
    "        attention = F.softmax(energy, dim=2)\n",
    "        \n",
    "        #attention = [batch size, trg len, src len]\n",
    "            \n",
    "        attended_encoding = torch.matmul(attention, encoder_combined)\n",
    "        \n",
    "        #attended_encoding = [batch size, trg len, emd dim]\n",
    "        \n",
    "        #convert from emb dim -> hid dim\n",
    "        attended_encoding = self.attn_emb2hid(attended_encoding)\n",
    "        \n",
    "        #attended_encoding = [batch size, trg len, hid dim]\n",
    "        \n",
    "        #apply residual connection\n",
    "        attended_combined = (conved + attended_encoding.permute(0, 2, 1)) * self.scale\n",
    "        \n",
    "        #attended_combined = [batch size, hid dim, trg len]\n",
    "        \n",
    "        return attention, attended_combined\n",
    "        \n",
    "    def forward(self, trg, encoder_conved, encoder_combined):\n",
    "        \n",
    "        #trg = [batch size, trg len]\n",
    "        #encoder_conved = encoder_combined = [batch size, src len, emb dim]\n",
    "                \n",
    "        batch_size = trg.shape[0]\n",
    "        trg_len = trg.shape[1]\n",
    "            \n",
    "        #create position tensor\n",
    "        pos = torch.arange(0, trg_len).unsqueeze(0).repeat(batch_size, 1).to(self.device)\n",
    "        \n",
    "        #pos = [batch size, trg len]\n",
    "        \n",
    "        #embed tokens and positions\n",
    "        tok_embedded = self.tok_embedding(trg)\n",
    "        pos_embedded = self.pos_embedding(pos)\n",
    "        \n",
    "        #tok_embedded = [batch size, trg len, emb dim]\n",
    "        #pos_embedded = [batch size, trg len, emb dim]\n",
    "        \n",
    "        #combine embeddings by elementwise summing\n",
    "        embedded = self.dropout(tok_embedded + pos_embedded)\n",
    "        \n",
    "        #embedded = [batch size, trg len, emb dim]\n",
    "        \n",
    "        #pass embedded through linear layer to go through emb dim -> hid dim\n",
    "        conv_input = self.emb2hid(embedded)\n",
    "        \n",
    "        #conv_input = [batch size, trg len, hid dim]\n",
    "        \n",
    "        #permute for convolutional layer\n",
    "        conv_input = conv_input.permute(0, 2, 1) \n",
    "        \n",
    "        #conv_input = [batch size, hid dim, trg len]\n",
    "        \n",
    "        batch_size = conv_input.shape[0]\n",
    "        hid_dim = conv_input.shape[1]\n",
    "        \n",
    "        for i, conv in enumerate(self.convs):\n",
    "        \n",
    "            #apply dropout\n",
    "            conv_input = self.dropout(conv_input)\n",
    "        \n",
    "            #need to pad so decoder can't \"cheat\"\n",
    "            padding = torch.zeros(batch_size, \n",
    "                                  hid_dim, \n",
    "                                  self.kernel_size - 1).fill_(self.trg_pad_idx).to(self.device)\n",
    "                \n",
    "            padded_conv_input = torch.cat((padding, conv_input), dim = 2)\n",
    "        \n",
    "            #padded_conv_input = [batch size, hid dim, trg len + kernel size - 1]\n",
    "        \n",
    "            #pass through convolutional layer\n",
    "            conved = conv(padded_conv_input)\n",
    "\n",
    "            #conved = [batch size, 2 * hid dim, trg len]\n",
    "            \n",
    "            #pass through GLU activation function\n",
    "            conved = F.glu(conved, dim = 1)\n",
    "\n",
    "            #conved = [batch size, hid dim, trg len]\n",
    "            \n",
    "            #calculate attention\n",
    "            attention, conved = self.calculate_attention(embedded, \n",
    "                                                         conved, \n",
    "                                                         encoder_conved, \n",
    "                                                         encoder_combined)\n",
    "            \n",
    "            #attention = [batch size, trg len, src len]\n",
    "            \n",
    "            #apply residual connection\n",
    "            conved = (conved + conv_input) * self.scale\n",
    "            \n",
    "            #conved = [batch size, hid dim, trg len]\n",
    "            \n",
    "            #set conv_input to conved for next loop iteration\n",
    "            conv_input = conved\n",
    "            \n",
    "        conved = self.hid2emb(conved.permute(0, 2, 1))\n",
    "         \n",
    "        #conved = [batch size, trg len, emb dim]\n",
    "            \n",
    "        output = self.fc_out(self.dropout(conved))\n",
    "        \n",
    "        #output = [batch size, trg len, output dim]\n",
    "            \n",
    "        return output, attention"
   ],
   "execution_count": 11,
   "outputs": []
  },
  {
   "cell_type": "markdown",
   "metadata": {
    "id": "vBoJtTBEmW-n"
   },
   "source": [
    "### Seq2Seq\n",
    "\n",
    "Инкапсулирующий модуль Seq2Seq сильно отличается от методов рекуррентной нейронной сети, используемых в предыдущих разделах, особенно при декодировании.\n",
    "\n",
    "У нашего `trg` элемент `<eos> `отрезан от конца последовательности потому, что мы не вводим токен `<eos>` в декодер.\n",
    "\n",
    "Кодирование аналогично предыдущим разделам, вставляем исходную последовательность и получаем «вектор контекста». Однако здесь у нас есть два вектора контекста на одно слово в исходной последовательности, `encoder_conved` и `encoder_combined`.\n",
    "\n",
    "Поскольку декодирование выполняется параллельно, нам не нужен цикл декодирования. Вся целевая последовательность сразу вводится в декодер, а заполнение используется для обеспечения того, чтобы каждый свёрточный фильтр в декодере мог видеть только текущий и предыдущий токены в последовательности, когда он скользит по предложению.\n",
    "\n",
    "Однако это также означает, что мы не можем применять обучение с принуждением, используя эту модель. У нас нет цикла, в котором мы можем выбрать, вводить ли предсказанный токен или фактический токен в последовательности, поскольку все предсказывается параллельно."
   ]
  },
  {
   "cell_type": "code",
   "metadata": {
    "id": "nWPaSFjvmW-n"
   },
   "source": [
    "class Seq2Seq(nn.Module):\n",
    "    def __init__(self, encoder, decoder):\n",
    "        super().__init__()\n",
    "        \n",
    "        self.encoder = encoder\n",
    "        self.decoder = decoder\n",
    "        \n",
    "    def forward(self, src, trg):\n",
    "        \n",
    "        #src = [batch size, src len]\n",
    "        #trg = [batch size, trg len - 1] (<eos> token sliced off the end)\n",
    "           \n",
    "        #calculate z^u (encoder_conved) and (z^u + e) (encoder_combined)\n",
    "        #encoder_conved is output from final encoder conv. block\n",
    "        #encoder_combined is encoder_conved plus (elementwise) src embedding plus \n",
    "        #  positional embeddings \n",
    "        encoder_conved, encoder_combined = self.encoder(src)\n",
    "            \n",
    "        #encoder_conved = [batch size, src len, emb dim]\n",
    "        #encoder_combined = [batch size, src len, emb dim]\n",
    "        \n",
    "        #calculate predictions of next words\n",
    "        #output is a batch of predictions for each word in the trg sentence\n",
    "        #attention a batch of attention scores across the src sentence for \n",
    "        #  each word in the trg sentence\n",
    "        output, attention = self.decoder(trg, encoder_conved, encoder_combined)\n",
    "        \n",
    "        #output = [batch size, trg len - 1, output dim]\n",
    "        #attention = [batch size, trg len - 1, src len]\n",
    "        \n",
    "        return output, attention"
   ],
   "execution_count": 12,
   "outputs": []
  },
  {
   "cell_type": "markdown",
   "metadata": {
    "id": "tTOJEDnFmW-n"
   },
   "source": [
    "## Обучение модели Seq2Seq\n",
    "\n",
    "Остальная часть раздела аналогична всем предыдущим. Мы определяем все гиперпараметры, инициализируем кодер и декодер, а также инициализируем общую модель - размещая ее на графическом процессоре, если он у нас есть.\n",
    "\n",
    "В статье авторы считают, что более выгодно использовать небольшой фильтр (размер ядра 3) и большое количество слоев (5+)."
   ]
  },
  {
   "cell_type": "code",
   "metadata": {
    "id": "27avr0JhmW-n"
   },
   "source": [
    "INPUT_DIM = len(SRC.vocab)\n",
    "OUTPUT_DIM = len(TRG.vocab)\n",
    "EMB_DIM = 256\n",
    "HID_DIM = 512 # each conv. layer has 2 * hid_dim filters\n",
    "ENC_LAYERS = 10 # number of conv. blocks in encoder\n",
    "DEC_LAYERS = 10 # number of conv. blocks in decoder\n",
    "ENC_KERNEL_SIZE = 3 # must be odd!\n",
    "DEC_KERNEL_SIZE = 3 # can be even or odd\n",
    "ENC_DROPOUT = 0.25\n",
    "DEC_DROPOUT = 0.25\n",
    "TRG_PAD_IDX = TRG.vocab.stoi[TRG.pad_token]\n",
    "    \n",
    "enc = Encoder(INPUT_DIM, EMB_DIM, HID_DIM, ENC_LAYERS, ENC_KERNEL_SIZE, ENC_DROPOUT, device)\n",
    "dec = Decoder(OUTPUT_DIM, EMB_DIM, HID_DIM, DEC_LAYERS, DEC_KERNEL_SIZE, DEC_DROPOUT, TRG_PAD_IDX, device)\n",
    "\n",
    "model = Seq2Seq(enc, dec).to(device)"
   ],
   "execution_count": 13,
   "outputs": []
  },
  {
   "cell_type": "markdown",
   "metadata": {
    "id": "J983s_vWmW-o"
   },
   "source": [
    "Мы также можем видеть, что модель имеет почти вдвое больше параметров, чем модель, основанная на внимании (от 20 до 37 метров)."
   ]
  },
  {
   "cell_type": "code",
   "metadata": {
    "id": "YppBpY7YmW-o",
    "colab": {
     "base_uri": "https://localhost:8080/"
    },
    "outputId": "5c17853f-d6ad-4a55-d407-f818a85aa39f"
   },
   "source": [
    "def count_parameters(model):\n",
    "    return sum(p.numel() for p in model.parameters() if p.requires_grad)\n",
    "\n",
    "print(f'The model has {count_parameters(model):,} trainable parameters')"
   ],
   "execution_count": 14,
   "outputs": [
    {
     "output_type": "stream",
     "text": [
      "The model has 37,351,173 trainable parameters\n"
     ],
     "name": "stdout"
    }
   ]
  },
  {
   "cell_type": "markdown",
   "metadata": {
    "id": "4_gPssl5mW-o"
   },
   "source": [
    "Далее мы определяем оптимизатор и функцию потерь (критерий). Как и раньше, мы игнорируем потери, когда целевая последовательность является маркером заполнения."
   ]
  },
  {
   "cell_type": "code",
   "metadata": {
    "id": "8MoHOF1EmW-o"
   },
   "source": [
    "optimizer = optim.Adam(model.parameters())"
   ],
   "execution_count": 15,
   "outputs": []
  },
  {
   "cell_type": "code",
   "metadata": {
    "id": "BH2kMvSkmW-o"
   },
   "source": [
    "criterion = nn.CrossEntropyLoss(ignore_index = TRG_PAD_IDX)"
   ],
   "execution_count": 16,
   "outputs": []
  },
  {
   "cell_type": "markdown",
   "metadata": {
    "id": "qR7Kk4XjmW-o"
   },
   "source": [
    "Затем мы определяем цикл обучения модели.\n",
    "\n",
    "Мы обрабатываем последовательности немного иначе, чем в предыдущих уроках. Для всех моделей мы никогда не помещаем `<eos>` в декодер. В моделях RNN это объяснялось тем, что цикл декодера останавливается при достихении значения `<eos>` в качестве входа для декодера. В этой модели мы просто отрезаем токен `<eos>` от конца последовательности. Таким образом:\n",
    "\n",
    "$$\\begin{align*}\n",
    "\\text{trg} &= [sos, x_1, x_2, x_3, eos]\\\\\n",
    "\\text{trg[:-1]} &= [sos, x_1, x_2, x_3]\n",
    "\\end{align*}$$\n",
    "\n",
    "$x_i$ обозначает фактический элемент целевой последовательности. Затем мы вводим это в модель, чтобы получить предсказанную последовательность, которая, как мы надеемся, должна предсказывать токен `<eos>`:\n",
    "\n",
    "$$\\begin{align*}\n",
    "\\text{output} &= [y_1, y_2, y_3, eos]\n",
    "\\end{align*}$$\n",
    "\n",
    "$y_i$ обозначает предсказанный элемент целевой последовательности. Затем мы вычисляем наши потери, используя исходный тензор `trg` с токеном `<sos> `, отрезанным спереди, оставляя токен `<eos> `:\n",
    "\n",
    "$$\\begin{align*}\n",
    "\\text{output} &= [y_1, y_2, y_3, eos]\\\\\n",
    "\\text{trg[1:]} &= [x_1, x_2, x_3, eos]\n",
    "\\end{align*}$$\n",
    "\n",
    "Затем мы рассчитываем наши потери и обновляем наши параметры, как это обычно делается."
   ]
  },
  {
   "cell_type": "code",
   "metadata": {
    "id": "MvtJOV2emW-p"
   },
   "source": [
    "def train(model, iterator, optimizer, criterion, clip):\n",
    "    \n",
    "    model.train()\n",
    "    \n",
    "    epoch_loss = 0\n",
    "    \n",
    "    for i, batch in enumerate(iterator):\n",
    "        \n",
    "        src = batch.src\n",
    "        trg = batch.trg\n",
    "        \n",
    "        optimizer.zero_grad()\n",
    "        \n",
    "        output, _ = model(src, trg[:,:-1])\n",
    "        \n",
    "        #output = [batch size, trg len - 1, output dim]\n",
    "        #trg = [batch size, trg len]\n",
    "        \n",
    "        output_dim = output.shape[-1]\n",
    "        \n",
    "        output = output.contiguous().view(-1, output_dim)\n",
    "        trg = trg[:,1:].contiguous().view(-1)\n",
    "        \n",
    "        #output = [batch size * trg len - 1, output dim]\n",
    "        #trg = [batch size * trg len - 1]\n",
    "        \n",
    "        loss = criterion(output, trg)\n",
    "        \n",
    "        loss.backward()\n",
    "        \n",
    "        torch.nn.utils.clip_grad_norm_(model.parameters(), clip)\n",
    "        \n",
    "        optimizer.step()\n",
    "        \n",
    "        epoch_loss += loss.item()\n",
    "        \n",
    "    return epoch_loss / len(iterator)"
   ],
   "execution_count": 17,
   "outputs": []
  },
  {
   "cell_type": "markdown",
   "metadata": {
    "id": "3zpdVHv-mW-p"
   },
   "source": [
    "Цикл оценки такой же, как цикл обучения, только без вычислений градиента и обновления параметров."
   ]
  },
  {
   "cell_type": "code",
   "metadata": {
    "id": "qVWwNEfSmW-p"
   },
   "source": [
    "def evaluate(model, iterator, criterion):\n",
    "    \n",
    "    model.eval()\n",
    "    \n",
    "    epoch_loss = 0\n",
    "    \n",
    "    with torch.no_grad():\n",
    "    \n",
    "        for i, batch in enumerate(iterator):\n",
    "\n",
    "            src = batch.src\n",
    "            trg = batch.trg\n",
    "\n",
    "            output, _ = model(src, trg[:,:-1])\n",
    "        \n",
    "            #output = [batch size, trg len - 1, output dim]\n",
    "            #trg = [batch size, trg len]\n",
    "\n",
    "            output_dim = output.shape[-1]\n",
    "            \n",
    "            output = output.contiguous().view(-1, output_dim)\n",
    "            trg = trg[:,1:].contiguous().view(-1)\n",
    "\n",
    "            #output = [batch size * trg len - 1, output dim]\n",
    "            #trg = [batch size * trg len - 1]\n",
    "            \n",
    "            loss = criterion(output, trg)\n",
    "\n",
    "            epoch_loss += loss.item()\n",
    "        \n",
    "    return epoch_loss / len(iterator)"
   ],
   "execution_count": 18,
   "outputs": []
  },
  {
   "cell_type": "markdown",
   "metadata": {
    "id": "J7zXlPSHmW-p"
   },
   "source": [
    "Опять же, у нас есть функция, которая сообщает нам, сколько времени занимает каждая эпоха."
   ]
  },
  {
   "cell_type": "code",
   "metadata": {
    "id": "TxT4f2vTmW-p"
   },
   "source": [
    "def epoch_time(start_time, end_time):\n",
    "    elapsed_time = end_time - start_time\n",
    "    elapsed_mins = int(elapsed_time / 60)\n",
    "    elapsed_secs = int(elapsed_time - (elapsed_mins * 60))\n",
    "    return elapsed_mins, elapsed_secs"
   ],
   "execution_count": 19,
   "outputs": []
  },
  {
   "cell_type": "markdown",
   "metadata": {
    "id": "QllLqsXhmW-p"
   },
   "source": [
    "Наконец, мы обучаем нашу модель. Обратите внимание, что мы уменьшили значение CLIP с 1 до 0.1, чтобы обучить эту модель более точно. При более высоких значениях «CLIP» градиент иногда резко увеличивается.\n",
    "\n",
    "Хотя у нас почти в два раза больше параметров, чем у модели RNN, основанной на внимании, на самом деле она обучение занимает примерно половину времени от стандартной версии, и примерно столько же, как в версии упакованных дополненных последовательностей. Это связано с тем, что все вычисления выполняются параллельно с использованием свёрточных фильтров вместо последовательного использования RNN.\n",
    "\n",
    "**Замечание**: эта модель всегда имеет коэффициент для обучения с принуждением равный 1, то есть всегда будет использоваться истинное значение для следующего токена из целевой последовательности. Это означает, что мы не можем сравнивать значения точности с предыдущими моделями, в которых использовался коэффициент обучения с принуждением отличный от 1. Смотрите [здесь](https://github.com/bentrevett/pytorch-seq2seq/issues/39#issuecomment-529408483) для результатов RNN, основанной на внимании, с использованием коэффициента обучения с принуждением равным 1."
   ]
  },
  {
   "cell_type": "code",
   "metadata": {
    "id": "negPwy-7mW-q",
    "colab": {
     "base_uri": "https://localhost:8080/"
    },
    "outputId": "375f2420-23ca-4d52-c78c-5d866d51a126"
   },
   "source": [
    "N_EPOCHS = 10\n",
    "CLIP = 0.1\n",
    "\n",
    "best_valid_loss = float('inf')\n",
    "\n",
    "for epoch in range(N_EPOCHS):\n",
    "    \n",
    "    start_time = time.time()\n",
    "    \n",
    "    train_loss = train(model, train_iterator, optimizer, criterion, CLIP)\n",
    "    valid_loss = evaluate(model, valid_iterator, criterion)\n",
    "    \n",
    "    end_time = time.time()\n",
    "    \n",
    "    epoch_mins, epoch_secs = epoch_time(start_time, end_time)\n",
    "    \n",
    "    if valid_loss < best_valid_loss:\n",
    "        best_valid_loss = valid_loss\n",
    "        torch.save(model.state_dict(), 'tut5-model.pt')\n",
    "    \n",
    "    print(f'Epoch: {epoch+1:02} | Time: {epoch_mins}m {epoch_secs}s')\n",
    "    print(f'\\tTrain Loss: {train_loss:.3f} | Train PPL: {math.exp(train_loss):7.3f}')\n",
    "    print(f'\\t Val. Loss: {valid_loss:.3f} |  Val. PPL: {math.exp(valid_loss):7.3f}')"
   ],
   "execution_count": 20,
   "outputs": [
    {
     "output_type": "stream",
     "text": [
      "Epoch: 01 | Time: 0m 58s\n",
      "\tTrain Loss: 4.165 | Train PPL:  64.386\n",
      "\t Val. Loss: 2.876 |  Val. PPL:  17.736\n",
      "Epoch: 02 | Time: 1m 3s\n",
      "\tTrain Loss: 2.965 | Train PPL:  19.396\n",
      "\t Val. Loss: 2.342 |  Val. PPL:  10.402\n",
      "Epoch: 03 | Time: 1m 2s\n",
      "\tTrain Loss: 2.567 | Train PPL:  13.027\n",
      "\t Val. Loss: 2.127 |  Val. PPL:   8.387\n",
      "Epoch: 04 | Time: 1m 3s\n",
      "\tTrain Loss: 2.343 | Train PPL:  10.408\n",
      "\t Val. Loss: 1.987 |  Val. PPL:   7.292\n",
      "Epoch: 05 | Time: 1m 2s\n",
      "\tTrain Loss: 2.192 | Train PPL:   8.949\n",
      "\t Val. Loss: 1.914 |  Val. PPL:   6.777\n",
      "Epoch: 06 | Time: 1m 3s\n",
      "\tTrain Loss: 2.081 | Train PPL:   8.010\n",
      "\t Val. Loss: 1.886 |  Val. PPL:   6.593\n",
      "Epoch: 07 | Time: 1m 2s\n",
      "\tTrain Loss: 1.992 | Train PPL:   7.333\n",
      "\t Val. Loss: 1.828 |  Val. PPL:   6.225\n",
      "Epoch: 08 | Time: 1m 2s\n",
      "\tTrain Loss: 1.923 | Train PPL:   6.840\n",
      "\t Val. Loss: 1.820 |  Val. PPL:   6.170\n",
      "Epoch: 09 | Time: 1m 3s\n",
      "\tTrain Loss: 1.859 | Train PPL:   6.417\n",
      "\t Val. Loss: 1.773 |  Val. PPL:   5.886\n",
      "Epoch: 10 | Time: 1m 2s\n",
      "\tTrain Loss: 1.805 | Train PPL:   6.078\n",
      "\t Val. Loss: 1.745 |  Val. PPL:   5.723\n"
     ],
     "name": "stdout"
    }
   ]
  },
  {
   "cell_type": "markdown",
   "metadata": {
    "id": "4InOYdaHmW-q"
   },
   "source": [
    "Затем мы загружаем параметры, которые имеют наименьшие потери при проверке, и вычисляем потери по набору тестов."
   ]
  },
  {
   "cell_type": "code",
   "metadata": {
    "id": "SNsGAjqOmW-q",
    "colab": {
     "base_uri": "https://localhost:8080/"
    },
    "outputId": "584c79ab-d042-4028-899e-5641aec78919"
   },
   "source": [
    "model.load_state_dict(torch.load('tut5-model.pt'))\n",
    "\n",
    "test_loss = evaluate(model, test_iterator, criterion)\n",
    "\n",
    "print(f'| Test Loss: {test_loss:.3f} | Test PPL: {math.exp(test_loss):7.3f} |')"
   ],
   "execution_count": 21,
   "outputs": [
    {
     "output_type": "stream",
     "text": [
      "| Test Loss: 1.821 | Test PPL:   6.176 |\n"
     ],
     "name": "stdout"
    }
   ]
  },
  {
   "cell_type": "markdown",
   "metadata": {
    "id": "JeJaSwUEmW-q"
   },
   "source": [
    "## Вывод"
   ]
  },
  {
   "cell_type": "markdown",
   "metadata": {
    "id": "hOSa4tPsmW-q"
   },
   "source": [
    "Теперь мы можем переводить с помощью нашей модели использую функцию `translate_sentence` ниже.\n",
    "\n",
    "Выполняются следующие шаги при переводе:\n",
    "- токенизируем исходное предложение, если оно не было токенизировано (является строкой)\n",
    "- добавляем токены `<sos>` и `<eos>`\n",
    "- нумеруем исходное предложение\n",
    "- преобразовываем его в тензор и добавляем размер батча\n",
    "- передаём исходное предложение в кодировщик\n",
    "- создаём список для хранения выходного предложения, инициализированного токеном `<sos>`\n",
    "- пока мы не достигли максимальной длины\n",
    "  - преобразуем текущий прогноз выходного предложения в тензор с размерностью батча\n",
    "  - поместим текущий выход и два выхода кодировщика в декодер\n",
    "  - получим предсказание следующего выходного токена от декодера\n",
    "  - добавим предсказание к предсказанию текущего выходного предложения\n",
    "  - прерываем, если предсказание было токеном `<eos>`\n",
    "- преобразоваем выходное предложение из индексов в токены\n",
    "- возвращаем выходное предложение (с удаленным токеном `<sos>`) и вектор внимания с последнего слоя"
   ]
  },
  {
   "cell_type": "code",
   "metadata": {
    "id": "AaDmt63gmW-r"
   },
   "source": [
    "def translate_sentence(sentence, src_field, trg_field, model, device, max_len = 50):\n",
    "\n",
    "    model.eval()\n",
    "        \n",
    "    if isinstance(sentence, str):\n",
    "        nlp = spacy.load('de_core_news_sm')\n",
    "        tokens = [token.text.lower() for token in nlp(sentence)]\n",
    "    else:\n",
    "        tokens = [token.lower() for token in sentence]\n",
    "\n",
    "    tokens = [src_field.init_token] + tokens + [src_field.eos_token]\n",
    "        \n",
    "    src_indexes = [src_field.vocab.stoi[token] for token in tokens]\n",
    "\n",
    "    src_tensor = torch.LongTensor(src_indexes).unsqueeze(0).to(device)\n",
    "\n",
    "    with torch.no_grad():\n",
    "        encoder_conved, encoder_combined = model.encoder(src_tensor)\n",
    "\n",
    "    trg_indexes = [trg_field.vocab.stoi[trg_field.init_token]]\n",
    "\n",
    "    for i in range(max_len):\n",
    "\n",
    "        trg_tensor = torch.LongTensor(trg_indexes).unsqueeze(0).to(device)\n",
    "\n",
    "        with torch.no_grad():\n",
    "            output, attention = model.decoder(trg_tensor, encoder_conved, encoder_combined)\n",
    "        \n",
    "        pred_token = output.argmax(2)[:,-1].item()\n",
    "        \n",
    "        trg_indexes.append(pred_token)\n",
    "\n",
    "        if pred_token == trg_field.vocab.stoi[trg_field.eos_token]:\n",
    "            break\n",
    "    \n",
    "    trg_tokens = [trg_field.vocab.itos[i] for i in trg_indexes]\n",
    "    \n",
    "    return trg_tokens[1:], attention"
   ],
   "execution_count": 22,
   "outputs": []
  },
  {
   "cell_type": "markdown",
   "metadata": {
    "id": "RQ90ooC_mW-r"
   },
   "source": [
    "Затем у нас есть функция, которая будет отображать, насколько модель обращает внимание на каждый входной токен на каждом этапе декодирования."
   ]
  },
  {
   "cell_type": "code",
   "metadata": {
    "id": "hF77Ajh9mW-r"
   },
   "source": [
    "def display_attention(sentence, translation, attention):\n",
    "    \n",
    "    fig = plt.figure(figsize=(10,10))\n",
    "    ax = fig.add_subplot(111)\n",
    "        \n",
    "    attention = attention.squeeze(0).cpu().detach().numpy()\n",
    "    \n",
    "    cax = ax.matshow(attention, cmap='bone')\n",
    "   \n",
    "    ax.tick_params(labelsize=15)\n",
    "    ax.set_xticklabels(['']+['<sos>']+[t.lower() for t in sentence]+['<eos>'], \n",
    "                       rotation=45)\n",
    "    ax.set_yticklabels(['']+translation)\n",
    "\n",
    "    ax.xaxis.set_major_locator(ticker.MultipleLocator(1))\n",
    "    ax.yaxis.set_major_locator(ticker.MultipleLocator(1))\n",
    "\n",
    "    plt.show()\n",
    "    plt.close()"
   ],
   "execution_count": 23,
   "outputs": []
  },
  {
   "cell_type": "markdown",
   "metadata": {
    "id": "9RMLenUsmW-r"
   },
   "source": [
    "Затем мы, наконец, начнем переводить несколько предложений.\n",
    "\n",
    "Сначала возьмем пример из обучающей выборки:"
   ]
  },
  {
   "cell_type": "code",
   "metadata": {
    "id": "FRQVTmYumW-r",
    "colab": {
     "base_uri": "https://localhost:8080/"
    },
    "outputId": "a03cea3b-b472-4d06-e686-b48c76b2cb3c"
   },
   "source": [
    "example_idx = 2\n",
    "\n",
    "src = vars(train_data.examples[example_idx])['src']\n",
    "trg = vars(train_data.examples[example_idx])['trg']\n",
    "\n",
    "print(f'src = {src}')\n",
    "print(f'trg = {trg}')"
   ],
   "execution_count": 24,
   "outputs": [
    {
     "output_type": "stream",
     "text": [
      "src = ['ein', 'kleines', 'mädchen', 'klettert', 'in', 'ein', 'spielhaus', 'aus', 'holz', '.']\n",
      "trg = ['a', 'little', 'girl', 'climbing', 'into', 'a', 'wooden', 'playhouse', '.']\n"
     ],
     "name": "stdout"
    }
   ]
  },
  {
   "cell_type": "markdown",
   "metadata": {
    "id": "uzk8CE1HmW-s"
   },
   "source": [
    "Затем мы передаем его в нашу функцию `translate_sentence`, которая дает нам предсказанные токены перевода, а также вектор внимания.\n",
    "\n",
    "Мы видим, что наша модель неправильно переводит *wooden* как *plastic*."
   ]
  },
  {
   "cell_type": "code",
   "metadata": {
    "id": "6Tm3TSeomW-s",
    "colab": {
     "base_uri": "https://localhost:8080/"
    },
    "outputId": "7dc836f7-f6eb-4a02-cfc6-a0cf87db6dd6"
   },
   "source": [
    "translation, attention = translate_sentence(src, SRC, TRG, model, device)\n",
    "\n",
    "print(f'predicted trg = {translation}')"
   ],
   "execution_count": 26,
   "outputs": [
    {
     "output_type": "stream",
     "text": [
      "predicted trg = ['a', 'little', 'girl', 'is', 'climbing', 'a', 'playhouse', 'in', 'a', 'playhouse', '.', '<eos>']\n"
     ],
     "name": "stdout"
    }
   ]
  },
  {
   "cell_type": "markdown",
   "metadata": {
    "id": "oHJgds3GmW-s"
   },
   "source": [
    "Мы можем наблюдать за вниманием модели, чтобы убедиться, что она дает точный результат.\n",
    "\n",
    "Мы видим, что он обращает внимание на *spielhaus* при создании токенов *plastic* и *playhouse*."
   ]
  },
  {
   "cell_type": "code",
   "metadata": {
    "id": "W1NJF7IAmW-s",
    "colab": {
     "base_uri": "https://localhost:8080/",
     "height": 646
    },
    "outputId": "c5ffff9d-0172-471b-8d0f-8b46e25d24f6"
   },
   "source": [
    "display_attention(src, translation, attention)"
   ],
   "execution_count": 27,
   "outputs": [
    {
     "output_type": "display_data",
     "data": {
      "image/png": "[encoded data removed]",
      "text/plain": [
       "<Figure size 720x720 with 1 Axes>"
      ]
     },
     "metadata": {
      "tags": [],
      "needs_background": "light"
     }
    }
   ]
  },
  {
   "cell_type": "markdown",
   "metadata": {
    "id": "h0p5FY3jmW-s"
   },
   "source": [
    "Посмотрим, насколько хорошо он переводит пример, которого нет в обучающей выборке."
   ]
  },
  {
   "cell_type": "code",
   "metadata": {
    "id": "QYuTUGkrmW-t",
    "colab": {
     "base_uri": "https://localhost:8080/"
    },
    "outputId": "a8df6ff0-5c69-4cc0-bafe-98e2e35a633a"
   },
   "source": [
    "example_idx = 2\n",
    "\n",
    "src = vars(valid_data.examples[example_idx])['src']\n",
    "trg = vars(valid_data.examples[example_idx])['trg']\n",
    "\n",
    "print(f'src = {src}')\n",
    "print(f'trg = {trg}')"
   ],
   "execution_count": 28,
   "outputs": [
    {
     "output_type": "stream",
     "text": [
      "src = ['ein', 'junge', 'mit', 'kopfhörern', 'sitzt', 'auf', 'den', 'schultern', 'einer', 'frau', '.']\n",
      "trg = ['a', 'boy', 'wearing', 'headphones', 'sits', 'on', 'a', 'woman', \"'s\", 'shoulders', '.']\n"
     ],
     "name": "stdout"
    }
   ]
  },
  {
   "cell_type": "markdown",
   "metadata": {
    "id": "HPDqi8GPmW-t"
   },
   "source": [
    "Модель хорошо справляется с этой задачей."
   ]
  },
  {
   "cell_type": "code",
   "metadata": {
    "id": "zDZKf5ZdmW-t",
    "colab": {
     "base_uri": "https://localhost:8080/"
    },
    "outputId": "6d734bb7-0a1f-40da-ad91-8bf53c33b6a9"
   },
   "source": [
    "translation, attention = translate_sentence(src, SRC, TRG, model, device)\n",
    "\n",
    "print(f'predicted trg = {translation}')"
   ],
   "execution_count": 29,
   "outputs": [
    {
     "output_type": "stream",
     "text": [
      "predicted trg = ['a', 'boy', 'with', 'headphones', 'sits', 'on', 'her', 'shoulders', 'of', 'a', 'woman', \"'s\", 'shoulders', '.', '<eos>']\n"
     ],
     "name": "stdout"
    }
   ]
  },
  {
   "cell_type": "markdown",
   "metadata": {
    "id": "MqMx681kmW-t"
   },
   "source": [
    "Опять же, мы можем видеть, что внимание уделяется разумным словам - *junge* для *boy*, *einer* для *of* и *a*, и т. Д. Как ни странно, внимание при декодировании токена `<eos>` фокусируется на *frau*."
   ]
  },
  {
   "cell_type": "code",
   "metadata": {
    "id": "gK1hPijMmW-t",
    "colab": {
     "base_uri": "https://localhost:8080/",
     "height": 654
    },
    "outputId": "dc5ec366-2d2e-4967-a1e6-5764561d32eb"
   },
   "source": [
    "display_attention(src, translation, attention)"
   ],
   "execution_count": 30,
   "outputs": [
    {
     "output_type": "display_data",
     "data": {
      "image/png": "[encoded data removed]",
      "text/plain": [
       "<Figure size 720x720 with 1 Axes>"
      ]
     },
     "metadata": {
      "tags": [],
      "needs_background": "light"
     }
    }
   ]
  },
  {
   "cell_type": "markdown",
   "metadata": {
    "id": "R2474bN_mW-t"
   },
   "source": [
    "Наконец, давайте проверим пример из набора тестов."
   ]
  },
  {
   "cell_type": "code",
   "metadata": {
    "id": "Sjudj7fWmW-u",
    "colab": {
     "base_uri": "https://localhost:8080/"
    },
    "outputId": "6c5c766b-ee24-4a0f-cff0-b16e86091811"
   },
   "source": [
    "example_idx = 4\n",
    "\n",
    "src = vars(test_data.examples[example_idx])['src']\n",
    "trg = vars(test_data.examples[example_idx])['trg']\n",
    "\n",
    "print(f'src = {src}')\n",
    "print(f'trg = {trg}')"
   ],
   "execution_count": 31,
   "outputs": [
    {
     "output_type": "stream",
     "text": [
      "src = ['leute', 'reparieren', 'das', 'dach', 'eines', 'hauses', '.']\n",
      "trg = ['people', 'are', 'fixing', 'the', 'roof', 'of', 'a', 'house', '.']\n"
     ],
     "name": "stdout"
    }
   ]
  },
  {
   "cell_type": "markdown",
   "metadata": {
    "id": "0d35oGUVmW-u"
   },
   "source": [
    "Получаем здесь правильный по смыслу перевод *are fixing* в *repair*."
   ]
  },
  {
   "cell_type": "code",
   "metadata": {
    "id": "cOIYvzqamW-u",
    "colab": {
     "base_uri": "https://localhost:8080/"
    },
    "outputId": "906cdcdc-9b43-41df-c99d-3a29046f93a4"
   },
   "source": [
    "translation, attention = translate_sentence(src, SRC, TRG, model, device)\n",
    "\n",
    "print(f'predicted trg = {translation}')"
   ],
   "execution_count": 32,
   "outputs": [
    {
     "output_type": "stream",
     "text": [
      "predicted trg = ['people', 'repair', 'the', 'roof', 'of', 'a', 'house', '.', '<eos>']\n"
     ],
     "name": "stdout"
    }
   ]
  },
  {
   "cell_type": "markdown",
   "metadata": {
    "id": "vu7XuJTgmW-u"
   },
   "source": [
    "Внимание вроде правильное. Мы снова привлекли странное внимание к декодированию токена `<eos>`, похоже, он сосредоточен на слове перед точкой. Одно из объяснений может заключаться в том, что модель обращает внимание на последнее слово в предложении, чтобы увидеть, состоит ли входная последовательность из двух предложений, и если нет, она генерирует токен `<eos>`."
   ]
  },
  {
   "cell_type": "code",
   "metadata": {
    "id": "J02IfWEVmW-u",
    "colab": {
     "base_uri": "https://localhost:8080/",
     "height": 651
    },
    "outputId": "7fa84034-c1fe-4be7-fb84-975bf65eab8e"
   },
   "source": [
    "display_attention(src, translation, attention)"
   ],
   "execution_count": 33,
   "outputs": [
    {
     "output_type": "display_data",
     "data": {
      "image/png": "[encoded data removed]",
      "text/plain": [
       "<Figure size 720x720 with 1 Axes>"
      ]
     },
     "metadata": {
      "tags": [],
      "needs_background": "light"
     }
    }
   ]
  },
  {
   "cell_type": "markdown",
   "metadata": {
    "id": "A2qhRA3DmW-v"
   },
   "source": [
    "## BLEU\n",
    "\n",
    "Наконец, мы рассчитываем оценку BLEU для модели."
   ]
  },
  {
   "cell_type": "code",
   "metadata": {
    "id": "8aJtajeMmW-v"
   },
   "source": [
    "from torchtext.data.metrics import bleu_score\n",
    "\n",
    "def calculate_bleu(data, src_field, trg_field, model, device, max_len = 50):\n",
    "    \n",
    "    trgs = []\n",
    "    pred_trgs = []\n",
    "    \n",
    "    for datum in data:\n",
    "        \n",
    "        src = vars(datum)['src']\n",
    "        trg = vars(datum)['trg']\n",
    "        \n",
    "        pred_trg, _ = translate_sentence(src, src_field, trg_field, model, device, max_len)\n",
    "        \n",
    "        #cut off <eos> token\n",
    "        pred_trg = pred_trg[:-1]\n",
    "        \n",
    "        pred_trgs.append(pred_trg)\n",
    "        trgs.append([trg])\n",
    "        \n",
    "    return bleu_score(pred_trgs, trgs)"
   ],
   "execution_count": 34,
   "outputs": []
  },
  {
   "cell_type": "markdown",
   "metadata": {
    "id": "juMvtmyCmW-v"
   },
   "source": [
    "Мы получили оценку BLEU ~ 34 по сравнению с моделью RNN, основанной на внимании, которая дала нам ~ 28. Это улучшение показателя BLEU на ~ 17%."
   ]
  },
  {
   "cell_type": "code",
   "metadata": {
    "id": "bfiG12EtmW-v",
    "colab": {
     "base_uri": "https://localhost:8080/"
    },
    "outputId": "9b451e29-7692-4219-fc0f-31fc479b4a55"
   },
   "source": [
    "bleu_score = calculate_bleu(test_data, SRC, TRG, model, device)\n",
    "\n",
    "print(f'BLEU score = {bleu_score*100:.2f}')"
   ],
   "execution_count": 35,
   "outputs": [
    {
     "output_type": "stream",
     "text": [
      "BLEU score = 30.83\n"
     ],
     "name": "stdout"
    }
   ]
  },
  {
   "cell_type": "markdown",
   "metadata": {
    "id": "SUd3DBzwmW-v"
   },
   "source": [
    "Мы рассмотрели первую из наших моделей, не использующих RNN! Далее идет модель «Transformer», в которой даже не используются свёрточные слои — только линейные слои и множество механизмов внимания."
   ]
  },
  {
   "cell_type": "markdown",
   "metadata": {
    "id": "hoMiO5UNdDym"
   },
   "source": [
    "## Обучение сети инвертированию предложения\n",
    "\n",
    "В конце приведу один из моих любимых тестов: тест на инверсию предложения. Очень простая для человека задача (ученики начальной школы обучаются за 10-15 примеров), но, порой, непреодолима для искусственных систем."
   ]
  },
  {
   "cell_type": "markdown",
   "metadata": {
    "id": "Otxbf1JsdQna"
   },
   "source": [
    "Для Google Colab скачаем обучающие последовательности"
   ]
  },
  {
   "cell_type": "code",
   "metadata": {
    "id": "4RTGwyUOdMXg"
   },
   "source": [
    "!wget https://raw.githubusercontent.com/vasiliyeskin/bentrevett-pytorch-seq2seq_ru/master/toy_revert/train.csv -P toy_revert\n",
    "!wget https://raw.githubusercontent.com/vasiliyeskin/bentrevett-pytorch-seq2seq_ru/master/toy_revert/val.csv -P toy_revert\n",
    "!wget https://raw.githubusercontent.com/vasiliyeskin/bentrevett-pytorch-seq2seq_ru/master/toy_revert/test.csv -P toy_revert"
   ],
   "execution_count": null,
   "outputs": []
  },
  {
   "cell_type": "markdown",
   "metadata": {
    "id": "22QHHAl3dV7P"
   },
   "source": [
    "В начале обучим сеть инверсии и посмотрим на результат.\n"
   ]
  },
  {
   "cell_type": "code",
   "metadata": {
    "colab": {
     "base_uri": "https://localhost:8080/"
    },
    "id": "nlb3m-UndW13",
    "outputId": "0dbbb4c5-e8b0-4a3d-e8b6-aa07877d0f2a"
   },
   "source": [
    "SRC = Field(tokenize=\"spacy\",\n",
    "            init_token='<sos>',\n",
    "            eos_token='<eos>',\n",
    "            lower=True, \n",
    "            batch_first = True)\n",
    "\n",
    "TRG = Field(tokenize=\"spacy\",\n",
    "            init_token='<sos>',\n",
    "            eos_token='<eos>',\n",
    "            lower=True, \n",
    "            batch_first = True)\n",
    "\n",
    "data_fields = [('src', SRC), ('trg', TRG)]\n",
    "# load the dataset in csv format\n",
    "train_data, valid_data, test_data = TabularDataset.splits(\n",
    "    path='toy_revert',\n",
    "    train='train.csv',\n",
    "    validation='val.csv',\n",
    "    test='test.csv',\n",
    "    format='csv',\n",
    "    fields=data_fields,\n",
    "    skip_header=True\n",
    ")\n",
    "\n",
    "SRC.build_vocab(train_data)\n",
    "TRG.build_vocab(train_data)"
   ],
   "execution_count": 56,
   "outputs": [
    {
     "output_type": "stream",
     "text": [
      "/usr/local/lib/python3.7/dist-packages/torchtext/data/utils.py:123: UserWarning: Spacy model \"en\" could not be loaded, trying \"en_core_web_sm\" instead\n",
      "  warnings.warn(f'Spacy model \"{language}\" could not be loaded, trying \"{OLD_MODEL_SHORTCUTS[language]}\" instead')\n"
     ],
     "name": "stderr"
    }
   ]
  },
  {
   "cell_type": "code",
   "metadata": {
    "colab": {
     "base_uri": "https://localhost:8080/"
    },
    "id": "7Y98m0vJdaaB",
    "outputId": "407f9629-9574-473e-897b-1e1dcb5b7b09"
   },
   "source": [
    "device = torch.device('cuda' if torch.cuda.is_available() else 'cpu')\n",
    "\n",
    "BATCH_SIZE = 128\n",
    "\n",
    "train_iterator, valid_iterator, test_iterator = BucketIterator.splits(\n",
    "    (train_data, valid_data, test_data), \n",
    "     batch_size = BATCH_SIZE,\n",
    "     sort_key = lambda x: len(x.src),\n",
    "     sort_within_batch=True,\n",
    "     device = device)\n",
    "\n",
    "\n",
    "\n",
    "################## create DNN Seq2Seq ###############################\n",
    "\n",
    "INPUT_DIM = len(SRC.vocab)\n",
    "OUTPUT_DIM = len(TRG.vocab)\n",
    "EMB_DIM = 32\n",
    "HID_DIM = 64 # each conv. layer has 2 * hid_dim filters\n",
    "ENC_LAYERS = 10 # number of conv. blocks in encoder\n",
    "DEC_LAYERS = 10 # number of conv. blocks in decoder\n",
    "ENC_KERNEL_SIZE = 3 # must be odd!\n",
    "DEC_KERNEL_SIZE = 3 # can be even or odd\n",
    "ENC_DROPOUT = 0.1\n",
    "DEC_DROPOUT = 0.1\n",
    "TRG_PAD_IDX = TRG.vocab.stoi[TRG.pad_token]\n",
    "    \n",
    "enc = Encoder(INPUT_DIM, EMB_DIM, HID_DIM, ENC_LAYERS, ENC_KERNEL_SIZE, ENC_DROPOUT, device)\n",
    "dec = Decoder(OUTPUT_DIM, EMB_DIM, HID_DIM, DEC_LAYERS, DEC_KERNEL_SIZE, DEC_DROPOUT, TRG_PAD_IDX, device)\n",
    "\n",
    "model = Seq2Seq(enc, dec).to(device)\n",
    "\n",
    "####################################################################\n",
    "\n",
    "\n",
    "####### initial weights\n",
    "print(f'The model has {count_parameters(model):,} trainable parameters')\n",
    "# print(model)\n",
    "\n",
    "\n",
    "optimizer = optim.Adam(model.parameters())\n",
    "criterion = nn.CrossEntropyLoss(ignore_index=TRG_PAD_IDX)\n",
    "\n",
    "N_EPOCHS = 10\n",
    "CLIP = 1\n",
    "\n",
    "best_valid_loss = float('inf')\n",
    "\n",
    "for epoch in range(N_EPOCHS):\n",
    "    \n",
    "    start_time = time.time()\n",
    "    \n",
    "    train_loss = train(model, train_iterator, optimizer, criterion, CLIP)\n",
    "    valid_loss = evaluate(model, valid_iterator, criterion)\n",
    "    \n",
    "    end_time = time.time()\n",
    "    \n",
    "    epoch_mins, epoch_secs = epoch_time(start_time, end_time)\n",
    "    \n",
    "    if valid_loss < best_valid_loss:\n",
    "        best_valid_loss = valid_loss\n",
    "        torch.save(model.state_dict(), 'tut5-model.pt')\n",
    "    \n",
    "    print(f'Epoch: {epoch+1:02} | Time: {epoch_mins}m {epoch_secs}s')\n",
    "    print(f'\\tTrain Loss: {train_loss:.3f} | Train PPL: {math.exp(train_loss):7.3f}')\n",
    "    print(f'\\t Val. Loss: {valid_loss:.3f} |  Val. PPL: {math.exp(valid_loss):7.3f}')\n",
    "\n",
    "    # writer.add_scalar(\"Train_loss_average_per_epoch\", train_loss, epoch)\n",
    "    # writer.add_scalar(\"Validate_loss_average_per_epoch\", valid_loss, epoch)\n",
    "\n",
    "model.load_state_dict(torch.load('tut5-model.pt'))\n",
    "\n",
    "test_loss = evaluate(model, test_iterator, criterion)\n",
    "\n",
    "print(f'| Test Loss: {test_loss:.3f} | Test PPL: {math.exp(test_loss):7.3f} |')\n"
   ],
   "execution_count": 57,
   "outputs": [
    {
     "output_type": "stream",
     "text": [
      "The model has 513,832 trainable parameters\n",
      "Epoch: 01 | Time: 0m 2s\n",
      "\tTrain Loss: 1.246 | Train PPL:   3.476\n",
      "\t Val. Loss: 0.429 |  Val. PPL:   1.535\n",
      "Epoch: 02 | Time: 0m 2s\n",
      "\tTrain Loss: 0.311 | Train PPL:   1.364\n",
      "\t Val. Loss: 0.018 |  Val. PPL:   1.019\n",
      "Epoch: 03 | Time: 0m 2s\n",
      "\tTrain Loss: 0.035 | Train PPL:   1.036\n",
      "\t Val. Loss: 0.026 |  Val. PPL:   1.027\n",
      "Epoch: 04 | Time: 0m 2s\n",
      "\tTrain Loss: 0.045 | Train PPL:   1.046\n",
      "\t Val. Loss: 0.001 |  Val. PPL:   1.001\n",
      "Epoch: 05 | Time: 0m 2s\n",
      "\tTrain Loss: 0.007 | Train PPL:   1.008\n",
      "\t Val. Loss: 0.000 |  Val. PPL:   1.000\n",
      "Epoch: 06 | Time: 0m 2s\n",
      "\tTrain Loss: 0.006 | Train PPL:   1.006\n",
      "\t Val. Loss: 0.003 |  Val. PPL:   1.003\n",
      "Epoch: 07 | Time: 0m 2s\n",
      "\tTrain Loss: 0.004 | Train PPL:   1.004\n",
      "\t Val. Loss: 0.000 |  Val. PPL:   1.000\n",
      "Epoch: 08 | Time: 0m 2s\n",
      "\tTrain Loss: 0.001 | Train PPL:   1.001\n",
      "\t Val. Loss: 0.000 |  Val. PPL:   1.000\n",
      "Epoch: 09 | Time: 0m 2s\n",
      "\tTrain Loss: 0.003 | Train PPL:   1.003\n",
      "\t Val. Loss: 0.001 |  Val. PPL:   1.001\n",
      "Epoch: 10 | Time: 0m 2s\n",
      "\tTrain Loss: 0.002 | Train PPL:   1.002\n",
      "\t Val. Loss: 0.000 |  Val. PPL:   1.000\n",
      "| Test Loss: 0.000 | Test PPL:   1.000 |\n"
     ],
     "name": "stdout"
    }
   ]
  },
  {
   "cell_type": "markdown",
   "metadata": {
    "id": "tkA8yFxVdh-G"
   },
   "source": [
    "testing with the life example"
   ]
  },
  {
   "cell_type": "code",
   "metadata": {
    "id": "BidmYbpiljJS"
   },
   "source": [
    "def translate_sentence(sentence, src_field, trg_field, model, device, max_len = 50):\n",
    "\n",
    "    model.eval()\n",
    "        \n",
    "    if isinstance(sentence, str):\n",
    "        nlp = spacy.load('de_core_news_sm')\n",
    "        tokens = [token.text.lower() for token in nlp(sentence)]\n",
    "    else:\n",
    "        tokens = [token.lower() for token in sentence]\n",
    "\n",
    "    tokens = [src_field.init_token] + tokens + [src_field.eos_token]\n",
    "        \n",
    "    src_indexes = [src_field.vocab.stoi[token] for token in tokens]\n",
    "\n",
    "    src_tensor = torch.LongTensor(src_indexes).unsqueeze(0).to(device)\n",
    "\n",
    "    with torch.no_grad():\n",
    "        encoder_conved, encoder_combined = model.encoder(src_tensor)\n",
    "\n",
    "    trg_indexes = [trg_field.vocab.stoi[trg_field.init_token]]\n",
    "\n",
    "    for i in range(max_len):\n",
    "\n",
    "        trg_tensor = torch.LongTensor(trg_indexes).unsqueeze(0).to(device)\n",
    "\n",
    "        with torch.no_grad():\n",
    "            output, attention = model.decoder(trg_tensor, encoder_conved, encoder_combined)\n",
    "        \n",
    "        pred_token = output.argmax(2)[:,-1].item()\n",
    "        \n",
    "        trg_indexes.append(pred_token)\n",
    "\n",
    "        if pred_token == trg_field.vocab.stoi[trg_field.eos_token]:\n",
    "            break\n",
    "    \n",
    "    trg_tokens = [trg_field.vocab.itos[i] for i in trg_indexes]\n",
    "    \n",
    "    return trg_tokens[1:], attention"
   ],
   "execution_count": 62,
   "outputs": []
  },
  {
   "cell_type": "code",
   "metadata": {
    "id": "HhxhC3Txlj2r"
   },
   "source": [
    "from torchtext.data.metrics import bleu_score\n",
    "\n",
    "def calculate_bleu(data, src_field, trg_field, model, device, max_len = 20):\n",
    "    \n",
    "    trgs = []\n",
    "    pred_trgs = []\n",
    "    \n",
    "    for datum in data:\n",
    "        \n",
    "        src = vars(datum)['src']\n",
    "        trg = vars(datum)['trg']\n",
    "        \n",
    "        pred_trg, _ = translate_sentence(src, src_field, trg_field, model, device, max_len)\n",
    "        \n",
    "        #cut off <eos> token\n",
    "        pred_trg = pred_trg[:-1]\n",
    "        \n",
    "        pred_trgs.append(pred_trg)\n",
    "        trgs.append([trg])\n",
    "        \n",
    "    return bleu_score(pred_trgs, trgs)"
   ],
   "execution_count": 63,
   "outputs": []
  },
  {
   "cell_type": "code",
   "metadata": {
    "colab": {
     "base_uri": "https://localhost:8080/",
     "height": 1000
    },
    "id": "udPiuHV3djAU",
    "outputId": "e7e6b302-4326-489d-ded1-8a81332ddbaf"
   },
   "source": [
    "example_idx = 10\n",
    "\n",
    "src = vars(test_data.examples[example_idx])['src']\n",
    "trg = vars(test_data.examples[example_idx])['trg']\n",
    "\n",
    "print(f'src = {src}')\n",
    "print(f'trg = {trg}')\n",
    "\n",
    "print(f'source        = {src}')\n",
    "translation, attention =  translate_sentence(src, SRC, TRG, model, device)\n",
    "display_attention(src, translation, attention)\n",
    "\n",
    "print(f'predicted trg = {translation}')\n",
    "\n",
    "src = ['a', 'b', 'c', 'a', 'd']\n",
    "print(f'source        = {src}')\n",
    "translation, attention =  translate_sentence(src, SRC, TRG, model, device)\n",
    "display_attention(src, translation, attention)\n",
    "print(f'predicted trg = {translation}')\n",
    "\n",
    "src = 'd b c d'.split(' ')\n",
    "print(f'source        = {src}')\n",
    "translation, attention =  translate_sentence(src, SRC, TRG, model, device)\n",
    "display_attention(src, translation, attention)\n",
    "print(f'predicted trg = {translation}')\n",
    "\n",
    "src = ['a', 'a', 'a', 'a', 'd']\n",
    "print(f'source        = {src}')\n",
    "translation, attention = translate_sentence(src, SRC, TRG, model, device)\n",
    "print(f'predicted trg = {translation}')\n",
    "\n",
    "src = ['d', 'b', 'c', 'a']\n",
    "print(f'source        = {src}')\n",
    "translation, attention = translate_sentence(src, SRC, TRG, model, device)\n",
    "print(f'predicted trg = {translation}')\n",
    "\n",
    "src = ['d', 'd', 'd', 'd', 'd', 'd', 'd', 'd']\n",
    "print(f'source        = {src}')\n",
    "translation, attention = translate_sentence(src, SRC, TRG, model, device)\n",
    "print(f'predicted trg = {translation}')\n",
    "\n",
    "\n",
    "bleu_score = calculate_bleu(test_data, SRC, TRG, model, device)\n",
    "print(f'BLEU score = {bleu_score*100:.2f}')"
   ],
   "execution_count": 64,
   "outputs": [
    {
     "output_type": "stream",
     "text": [
      "src = ['c', 'b', 'd', 'a', 'd', 'b', 'a', 'c', 'c', 'a', 'b', 'c']\n",
      "trg = ['c', 'b', 'a', 'c', 'c', 'a', 'b', 'd', 'a', 'd', 'b', 'c']\n",
      "source        = ['c', 'b', 'd', 'a', 'd', 'b', 'a', 'c', 'c', 'a', 'b', 'c']\n"
     ],
     "name": "stdout"
    },
    {
     "output_type": "display_data",
     "data": {
      "image/png": "[encoded data removed]",
      "text/plain": [
       "<Figure size 720x720 with 1 Axes>"
      ]
     },
     "metadata": {
      "tags": [],
      "needs_background": "light"
     }
    },
    {
     "output_type": "stream",
     "text": [
      "predicted trg = ['c', 'b', 'a', 'c', 'c', 'a', 'b', 'd', 'a', 'd', 'b', 'c', '<eos>']\n",
      "source        = ['a', 'b', 'c', 'a', 'd']\n"
     ],
     "name": "stdout"
    },
    {
     "output_type": "display_data",
     "data": {
      "image/png": "[encoded data removed]",
      "text/plain": [
       "<Figure size 720x720 with 1 Axes>"
      ]
     },
     "metadata": {
      "tags": [],
      "needs_background": "light"
     }
    },
    {
     "output_type": "stream",
     "text": [
      "predicted trg = ['d', 'a', 'c', 'b', 'a', '<eos>']\n",
      "source        = ['d', 'b', 'c', 'd']\n"
     ],
     "name": "stdout"
    },
    {
     "output_type": "display_data",
     "data": {
      "image/png": "[encoded data removed]",
      "text/plain": [
       "<Figure size 720x720 with 1 Axes>"
      ]
     },
     "metadata": {
      "tags": [],
      "needs_background": "light"
     }
    },
    {
     "output_type": "stream",
     "text": [
      "predicted trg = ['d', 'c', 'b', 'd', '<eos>']\n",
      "source        = ['a', 'a', 'a', 'a', 'd']\n",
      "predicted trg = ['d', 'a', 'a', 'a', 'a', '<eos>']\n",
      "source        = ['d', 'b', 'c', 'a']\n",
      "predicted trg = ['a', 'c', 'b', 'd', '<eos>']\n",
      "source        = ['d', 'd', 'd', 'd', 'd', 'd', 'd', 'd']\n",
      "predicted trg = ['d', 'd', 'd', 'd', 'd', 'd', 'd', 'd', '<eos>']\n",
      "BLEU score = 100.00\n"
     ],
     "name": "stdout"
    }
   ]
  }
 ]
}